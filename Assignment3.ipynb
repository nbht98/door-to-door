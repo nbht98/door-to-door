{
  "nbformat": 4,
  "nbformat_minor": 0,
  "metadata": {
    "colab": {
      "name": "Assignment3.ipynb",
      "provenance": [],
      "collapsed_sections": []
    },
    "language_info": {
      "codemirror_mode": {
        "name": "ipython",
        "version": 3
      },
      "file_extension": ".py",
      "mimetype": "text/x-python",
      "name": "python",
      "nbconvert_exporter": "python",
      "pygments_lexer": "ipython3",
      "version": "3.6.5"
    },
    "kernelspec": {
      "name": "python3",
      "display_name": "Python 3"
    },
    "accelerator": "GPU"
  },
  "cells": [
    {
      "cell_type": "markdown",
      "metadata": {
        "id": "x7fdTGs4SnyS",
        "colab_type": "text"
      },
      "source": [
        "![](https://i.imgur.com/0AUxkXt.png)"
      ]
    },
    {
      "cell_type": "markdown",
      "metadata": {
        "id": "_uqy69P0Pm0L",
        "colab_type": "text"
      },
      "source": [
        "# Assignment 3 - From data to insights\n",
        "\n",
        "Before you explore the data, write down a short list of what you expect to see in the data: the distribution of key variables, the relationships between important pairs of them, and so on. Such a list is essentially a prediction based on your current understanding of the business.\n",
        "\n",
        "Now analyze the data. Make plots, do summaries, whatever is needed to see if it matches your expectations.\n",
        "\n",
        "Is there anything that doesn’t match? Anything that makes you go “That’s odd” or “That doesn’t make any sense.”?\n",
        "\n",
        "Zoom in and try to understand what in your business is making that weird thing show up in the data like that. This is the critical step.\n",
        "\n",
        "You may have just found an insight into the business and increased your understanding\n",
        "\n",
        "\n",
        "## The data analysis checklist\n",
        "\n",
        "This checklist can be used as a guide during the process of a data analysis, or as a way to evaluate the quality of a reported data analysis.\n",
        "\n",
        "### Answering the first questions\n",
        "\n",
        "1. Did you define the metric for success before beginning?\n",
        "2. Did you understand the context for the question and business application?\n",
        "3. Did you consider whether the question could be answered with the available data?\n",
        "\n",
        "### Cleaning the data\n",
        "\n",
        "1. Did you identify the missing data?\n",
        "2. Is each variable one column?\n",
        "3. Do different data types appear in each table?\n",
        "4. Did you try to identify any errors or miscoding of variables?\n",
        "5. Did you check for outliers?\n",
        "\n",
        "### Exploratory analysis\n",
        "\n",
        "1. Did you make univariate plots (histogram, distplot, boxplot)?\n",
        "2. Did you consider correlations between variables (scatterplot, jointplot, kde plot, correlation matrix)?\n",
        "3. Did you check the units of all data points to make sure they are in the right range?\n",
        "\n",
        "### Presentations\n",
        "\n",
        "1. Did you lead with a brief, understandable to everyone of your problem?\n",
        "2. Did you explain the data, describe the question of interest?\n",
        "3. Did you make sure all legends and axes were legible from the back of the room?"
      ]
    },
    {
      "cell_type": "markdown",
      "metadata": {
        "id": "ZBc0glanPm0M",
        "colab_type": "text"
      },
      "source": [
        "## Dataset - Online Retailes Purchase\n",
        "\n",
        "Typically e-commerce datasets are proprietary and consequently hard to find among publicly available data. However, [The UCI Machine Learning Repository](http://archive.ics.uci.edu/ml/index.php) has made this dataset containing actual transactions from 2010 and 2011. The dataset is maintained on their site, where it can be found by the title \"Online Retail\".\n",
        "\n",
        "\n",
        "### Step 1 - Checking the data\n",
        "\n",
        "**Import tools set**"
      ]
    },
    {
      "cell_type": "code",
      "metadata": {
        "id": "9Cx3LXxfPm0N",
        "colab_type": "code",
        "colab": {}
      },
      "source": [
        "# Your code here\n",
        "import seaborn as sns\n",
        "import pandas as pd\n",
        "import numpy as np"
      ],
      "execution_count": 0,
      "outputs": []
    },
    {
      "cell_type": "markdown",
      "metadata": {
        "id": "mFTQu0j6Pm0Q",
        "colab_type": "text"
      },
      "source": [
        "**Import data**"
      ]
    },
    {
      "cell_type": "code",
      "metadata": {
        "id": "w0YVchrVPm0R",
        "colab_type": "code",
        "colab": {}
      },
      "source": [
        "link = \"https://ml101-khanhnguyen.s3-ap-southeast-1.amazonaws.com/devc/Online_Retail.csv\"\n",
        "# Note: set param encoding = 'latin1'\n",
        "# Your code here\n",
        "retail_df = pd.read_csv(link, encoding = 'latin1')"
      ],
      "execution_count": 0,
      "outputs": []
    },
    {
      "cell_type": "code",
      "metadata": {
        "id": "V3v8D3pTFrYh",
        "colab_type": "code",
        "outputId": "b2702914-634f-4e64-f1de-08d797216480",
        "colab": {
          "base_uri": "https://localhost:8080/",
          "height": 206
        }
      },
      "source": [
        "# Print out First 5 rows from dataframe\n",
        "# Your code here\n",
        "retail_df.head(5)\n"
      ],
      "execution_count": 3,
      "outputs": [
        {
          "output_type": "execute_result",
          "data": {
            "text/html": [
              "<div>\n",
              "<style scoped>\n",
              "    .dataframe tbody tr th:only-of-type {\n",
              "        vertical-align: middle;\n",
              "    }\n",
              "\n",
              "    .dataframe tbody tr th {\n",
              "        vertical-align: top;\n",
              "    }\n",
              "\n",
              "    .dataframe thead th {\n",
              "        text-align: right;\n",
              "    }\n",
              "</style>\n",
              "<table border=\"1\" class=\"dataframe\">\n",
              "  <thead>\n",
              "    <tr style=\"text-align: right;\">\n",
              "      <th></th>\n",
              "      <th>InvoiceNo</th>\n",
              "      <th>StockCode</th>\n",
              "      <th>Description</th>\n",
              "      <th>Quantity</th>\n",
              "      <th>InvoiceDate</th>\n",
              "      <th>UnitPrice</th>\n",
              "      <th>CustomerID</th>\n",
              "      <th>Country</th>\n",
              "    </tr>\n",
              "  </thead>\n",
              "  <tbody>\n",
              "    <tr>\n",
              "      <th>0</th>\n",
              "      <td>536365</td>\n",
              "      <td>85123A</td>\n",
              "      <td>WHITE HANGING HEART T-LIGHT HOLDER</td>\n",
              "      <td>6</td>\n",
              "      <td>12/1/10 8:26</td>\n",
              "      <td>2.55</td>\n",
              "      <td>17850.0</td>\n",
              "      <td>United Kingdom</td>\n",
              "    </tr>\n",
              "    <tr>\n",
              "      <th>1</th>\n",
              "      <td>536365</td>\n",
              "      <td>71053</td>\n",
              "      <td>WHITE METAL LANTERN</td>\n",
              "      <td>6</td>\n",
              "      <td>12/1/10 8:26</td>\n",
              "      <td>3.39</td>\n",
              "      <td>17850.0</td>\n",
              "      <td>United Kingdom</td>\n",
              "    </tr>\n",
              "    <tr>\n",
              "      <th>2</th>\n",
              "      <td>536365</td>\n",
              "      <td>84406B</td>\n",
              "      <td>CREAM CUPID HEARTS COAT HANGER</td>\n",
              "      <td>8</td>\n",
              "      <td>12/1/10 8:26</td>\n",
              "      <td>2.75</td>\n",
              "      <td>17850.0</td>\n",
              "      <td>United Kingdom</td>\n",
              "    </tr>\n",
              "    <tr>\n",
              "      <th>3</th>\n",
              "      <td>536365</td>\n",
              "      <td>84029G</td>\n",
              "      <td>KNITTED UNION FLAG HOT WATER BOTTLE</td>\n",
              "      <td>6</td>\n",
              "      <td>12/1/10 8:26</td>\n",
              "      <td>3.39</td>\n",
              "      <td>17850.0</td>\n",
              "      <td>United Kingdom</td>\n",
              "    </tr>\n",
              "    <tr>\n",
              "      <th>4</th>\n",
              "      <td>536365</td>\n",
              "      <td>84029E</td>\n",
              "      <td>RED WOOLLY HOTTIE WHITE HEART.</td>\n",
              "      <td>6</td>\n",
              "      <td>12/1/10 8:26</td>\n",
              "      <td>3.39</td>\n",
              "      <td>17850.0</td>\n",
              "      <td>United Kingdom</td>\n",
              "    </tr>\n",
              "  </tbody>\n",
              "</table>\n",
              "</div>"
            ],
            "text/plain": [
              "  InvoiceNo StockCode  ... CustomerID         Country\n",
              "0    536365    85123A  ...    17850.0  United Kingdom\n",
              "1    536365     71053  ...    17850.0  United Kingdom\n",
              "2    536365    84406B  ...    17850.0  United Kingdom\n",
              "3    536365    84029G  ...    17850.0  United Kingdom\n",
              "4    536365    84029E  ...    17850.0  United Kingdom\n",
              "\n",
              "[5 rows x 8 columns]"
            ]
          },
          "metadata": {
            "tags": []
          },
          "execution_count": 3
        }
      ]
    },
    {
      "cell_type": "code",
      "metadata": {
        "id": "u4Msf54uFy4w",
        "colab_type": "code",
        "outputId": "3e34ae0b-e809-45b2-cab4-2f3a1c1cc0dd",
        "colab": {
          "base_uri": "https://localhost:8080/",
          "height": 257
        }
      },
      "source": [
        "# Print out brief info\n",
        "retail_df.info()"
      ],
      "execution_count": 4,
      "outputs": [
        {
          "output_type": "stream",
          "text": [
            "<class 'pandas.core.frame.DataFrame'>\n",
            "RangeIndex: 541909 entries, 0 to 541908\n",
            "Data columns (total 8 columns):\n",
            "InvoiceNo      541909 non-null object\n",
            "StockCode      541909 non-null object\n",
            "Description    540455 non-null object\n",
            "Quantity       541909 non-null int64\n",
            "InvoiceDate    541909 non-null object\n",
            "UnitPrice      541909 non-null float64\n",
            "CustomerID     406829 non-null float64\n",
            "Country        541909 non-null object\n",
            "dtypes: float64(2), int64(1), object(5)\n",
            "memory usage: 33.1+ MB\n"
          ],
          "name": "stdout"
        }
      ]
    },
    {
      "cell_type": "markdown",
      "metadata": {
        "id": "wY6yv3UsPm0k",
        "colab_type": "text"
      },
      "source": [
        "### Step 2 - Cleaning the data\n",
        "\n",
        "Few of useful data cleaning functions:\n",
        "\n",
        "* `s.astype('category')` # This will convert the datatype of the series to float *Please note that \"s\" here is a Pandas Series\n",
        "\n",
        "* `s.replace(1,'one')` # This will replace all values equal to 1 with 'one'\n",
        "\n",
        "* `s.replace([1,3],['one','three'])` # This will replace all 1 with 'one' and 3 with 'three'\n",
        "\n",
        "* `data.rename(columns=lambda x: x + 1)` # Mass renaming of columns\n",
        "\n",
        "* `data.rename(columns={'oldname': 'new name'})` # Selective renaming\n",
        "\n",
        "* `data.set_index('column_one')` #  This will change the index\n",
        "\n",
        "* `data.rename(index=lambda x: x + 1)` # Mass renaming of index\n",
        "\n",
        "* `data.dropna()` # Remove missing values\n",
        "\n",
        "* `data.fillna(x)` #  This will replaces all null values with x\n",
        "\n",
        "* `s.fillna(s.mean())` # This will replace all null values with the mean (mean can be replaced with almost any function from the below section) :\n",
        "\n",
        "* `data.corr()` # This will return the correlation between columns in a DataFrame\n",
        "\n",
        "* `data.count()` # This will return the number of non-null values in each DataFrame column\n",
        "\n",
        "* `data.max()` # This will return the highest value in each column\n",
        "\n",
        "* `data.min()` # This will return the lowest value in each column\n",
        "\n",
        "* `data.median()` # This will return the median of each column\n",
        "\n",
        "* `data.std()` # This will returns the standard deviation of each column\n"
      ]
    },
    {
      "cell_type": "markdown",
      "metadata": {
        "id": "rcNsGWarPm06",
        "colab_type": "text"
      },
      "source": [
        "**Check for NaN values**"
      ]
    },
    {
      "cell_type": "code",
      "metadata": {
        "id": "TqLxHGy2Pm06",
        "colab_type": "code",
        "outputId": "cff178e4-b702-4779-cfd2-1d2e3770faab",
        "colab": {
          "base_uri": "https://localhost:8080/",
          "height": 35
        }
      },
      "source": [
        "# Your code here\n",
        "retail_df.isnull().values.any()"
      ],
      "execution_count": 5,
      "outputs": [
        {
          "output_type": "execute_result",
          "data": {
            "text/plain": [
              "True"
            ]
          },
          "metadata": {
            "tags": []
          },
          "execution_count": 5
        }
      ]
    },
    {
      "cell_type": "markdown",
      "metadata": {
        "id": "RdhPk_x1Pm0-",
        "colab_type": "text"
      },
      "source": [
        "**Examine few examples of NaN values**"
      ]
    },
    {
      "cell_type": "code",
      "metadata": {
        "id": "3kGYpbdOPm0-",
        "colab_type": "code",
        "colab": {
          "base_uri": "https://localhost:8080/",
          "height": 206
        },
        "outputId": "cd19f1ac-1c3d-449a-8ea9-402ae6c85091"
      },
      "source": [
        "# List all NaN values\n",
        "retail_df[retail_df.isnull().any(axis=1)].sample(5)"
      ],
      "execution_count": 6,
      "outputs": [
        {
          "output_type": "execute_result",
          "data": {
            "text/html": [
              "<div>\n",
              "<style scoped>\n",
              "    .dataframe tbody tr th:only-of-type {\n",
              "        vertical-align: middle;\n",
              "    }\n",
              "\n",
              "    .dataframe tbody tr th {\n",
              "        vertical-align: top;\n",
              "    }\n",
              "\n",
              "    .dataframe thead th {\n",
              "        text-align: right;\n",
              "    }\n",
              "</style>\n",
              "<table border=\"1\" class=\"dataframe\">\n",
              "  <thead>\n",
              "    <tr style=\"text-align: right;\">\n",
              "      <th></th>\n",
              "      <th>InvoiceNo</th>\n",
              "      <th>StockCode</th>\n",
              "      <th>Description</th>\n",
              "      <th>Quantity</th>\n",
              "      <th>InvoiceDate</th>\n",
              "      <th>UnitPrice</th>\n",
              "      <th>CustomerID</th>\n",
              "      <th>Country</th>\n",
              "    </tr>\n",
              "  </thead>\n",
              "  <tbody>\n",
              "    <tr>\n",
              "      <th>512100</th>\n",
              "      <td>579508</td>\n",
              "      <td>22027</td>\n",
              "      <td>TEA PARTY BIRTHDAY CARD</td>\n",
              "      <td>1</td>\n",
              "      <td>11/29/11 16:33</td>\n",
              "      <td>0.83</td>\n",
              "      <td>NaN</td>\n",
              "      <td>United Kingdom</td>\n",
              "    </tr>\n",
              "    <tr>\n",
              "      <th>382153</th>\n",
              "      <td>569898</td>\n",
              "      <td>22076</td>\n",
              "      <td>6 RIBBONS EMPIRE</td>\n",
              "      <td>1</td>\n",
              "      <td>10/6/11 16:08</td>\n",
              "      <td>1.25</td>\n",
              "      <td>NaN</td>\n",
              "      <td>United Kingdom</td>\n",
              "    </tr>\n",
              "    <tr>\n",
              "      <th>18921</th>\n",
              "      <td>537823</td>\n",
              "      <td>22701</td>\n",
              "      <td>PINK DOG BOWL</td>\n",
              "      <td>1</td>\n",
              "      <td>12/8/10 14:25</td>\n",
              "      <td>5.91</td>\n",
              "      <td>NaN</td>\n",
              "      <td>United Kingdom</td>\n",
              "    </tr>\n",
              "    <tr>\n",
              "      <th>251185</th>\n",
              "      <td>559052</td>\n",
              "      <td>20666</td>\n",
              "      <td>ECONOMY HOLIDAY PURSE</td>\n",
              "      <td>2</td>\n",
              "      <td>7/5/11 16:53</td>\n",
              "      <td>0.83</td>\n",
              "      <td>NaN</td>\n",
              "      <td>United Kingdom</td>\n",
              "    </tr>\n",
              "    <tr>\n",
              "      <th>122677</th>\n",
              "      <td>546884</td>\n",
              "      <td>84991</td>\n",
              "      <td>60 TEATIME FAIRY CAKE CASES</td>\n",
              "      <td>2</td>\n",
              "      <td>3/17/11 18:08</td>\n",
              "      <td>1.25</td>\n",
              "      <td>NaN</td>\n",
              "      <td>United Kingdom</td>\n",
              "    </tr>\n",
              "  </tbody>\n",
              "</table>\n",
              "</div>"
            ],
            "text/plain": [
              "       InvoiceNo StockCode  ... CustomerID         Country\n",
              "512100    579508     22027  ...        NaN  United Kingdom\n",
              "382153    569898     22076  ...        NaN  United Kingdom\n",
              "18921     537823     22701  ...        NaN  United Kingdom\n",
              "251185    559052     20666  ...        NaN  United Kingdom\n",
              "122677    546884     84991  ...        NaN  United Kingdom\n",
              "\n",
              "[5 rows x 8 columns]"
            ]
          },
          "metadata": {
            "tags": []
          },
          "execution_count": 6
        }
      ]
    },
    {
      "cell_type": "markdown",
      "metadata": {
        "id": "OpAhltPeHaLR",
        "colab_type": "text"
      },
      "source": [
        "**Exclude negative Quatity entries**"
      ]
    },
    {
      "cell_type": "code",
      "metadata": {
        "id": "71F-5PY-HZ6T",
        "colab_type": "code",
        "colab": {}
      },
      "source": [
        "retail_df = retail_df[retail_df['Quantity'] >= 0]"
      ],
      "execution_count": 0,
      "outputs": []
    },
    {
      "cell_type": "markdown",
      "metadata": {
        "id": "s5idc5z2H1zJ",
        "colab_type": "text"
      },
      "source": [
        "**Exclude negative Price entries**"
      ]
    },
    {
      "cell_type": "code",
      "metadata": {
        "id": "_8OdtEVFH1fr",
        "colab_type": "code",
        "colab": {}
      },
      "source": [
        "retail_df = retail_df[retail_df['Quantity'] >= 0]"
      ],
      "execution_count": 0,
      "outputs": []
    },
    {
      "cell_type": "markdown",
      "metadata": {
        "id": "Ikd1t-v3Pm17",
        "colab_type": "text"
      },
      "source": [
        "### Step 3 - EDA"
      ]
    },
    {
      "cell_type": "markdown",
      "metadata": {
        "id": "-T3iojz1If_r",
        "colab_type": "text"
      },
      "source": [
        "**The customer with the highest number of orders comes from the United Kingdom (UK)**"
      ]
    },
    {
      "cell_type": "code",
      "metadata": {
        "id": "qIUoWtlPIhxJ",
        "colab_type": "code",
        "outputId": "ef81f915-7acf-4746-8d0f-f99fc9866f6b",
        "colab": {
          "base_uri": "https://localhost:8080/",
          "height": 81
        }
      },
      "source": [
        "# Your code here\n",
        "temp = retail_df[retail_df['Country'] == 'United Kingdom']\n",
        "temp[temp['Quantity'] == temp['Quantity'].max()]"
      ],
      "execution_count": 10,
      "outputs": [
        {
          "output_type": "execute_result",
          "data": {
            "text/html": [
              "<div>\n",
              "<style scoped>\n",
              "    .dataframe tbody tr th:only-of-type {\n",
              "        vertical-align: middle;\n",
              "    }\n",
              "\n",
              "    .dataframe tbody tr th {\n",
              "        vertical-align: top;\n",
              "    }\n",
              "\n",
              "    .dataframe thead th {\n",
              "        text-align: right;\n",
              "    }\n",
              "</style>\n",
              "<table border=\"1\" class=\"dataframe\">\n",
              "  <thead>\n",
              "    <tr style=\"text-align: right;\">\n",
              "      <th></th>\n",
              "      <th>InvoiceNo</th>\n",
              "      <th>StockCode</th>\n",
              "      <th>Description</th>\n",
              "      <th>Quantity</th>\n",
              "      <th>InvoiceDate</th>\n",
              "      <th>UnitPrice</th>\n",
              "      <th>CustomerID</th>\n",
              "      <th>Country</th>\n",
              "    </tr>\n",
              "  </thead>\n",
              "  <tbody>\n",
              "    <tr>\n",
              "      <th>540421</th>\n",
              "      <td>581483</td>\n",
              "      <td>23843</td>\n",
              "      <td>PAPER CRAFT , LITTLE BIRDIE</td>\n",
              "      <td>80995</td>\n",
              "      <td>12/9/11 9:15</td>\n",
              "      <td>2.08</td>\n",
              "      <td>16446.0</td>\n",
              "      <td>United Kingdom</td>\n",
              "    </tr>\n",
              "  </tbody>\n",
              "</table>\n",
              "</div>"
            ],
            "text/plain": [
              "       InvoiceNo StockCode  ... CustomerID         Country\n",
              "540421    581483     23843  ...    16446.0  United Kingdom\n",
              "\n",
              "[1 rows x 8 columns]"
            ]
          },
          "metadata": {
            "tags": []
          },
          "execution_count": 10
        }
      ]
    },
    {
      "cell_type": "markdown",
      "metadata": {
        "id": "9yUfXWelIiTg",
        "colab_type": "text"
      },
      "source": [
        "**The customer with the highest money spent on purchases comes from Netherlands**"
      ]
    },
    {
      "cell_type": "code",
      "metadata": {
        "id": "qCN_rIThJDRj",
        "colab_type": "code",
        "outputId": "cc5f569e-c3fc-4dbb-f4e2-28dada7ed873",
        "colab": {
          "base_uri": "https://localhost:8080/",
          "height": 81
        }
      },
      "source": [
        "retail_df['Cost'] = retail_df['Quantity'] * retail_df['UnitPrice']\n",
        "temp = retail_df[retail_df['Country'] == 'Netherlands']\n",
        "temp[temp['Cost'] == temp['Cost'].max()]"
      ],
      "execution_count": 11,
      "outputs": [
        {
          "output_type": "execute_result",
          "data": {
            "text/html": [
              "<div>\n",
              "<style scoped>\n",
              "    .dataframe tbody tr th:only-of-type {\n",
              "        vertical-align: middle;\n",
              "    }\n",
              "\n",
              "    .dataframe tbody tr th {\n",
              "        vertical-align: top;\n",
              "    }\n",
              "\n",
              "    .dataframe thead th {\n",
              "        text-align: right;\n",
              "    }\n",
              "</style>\n",
              "<table border=\"1\" class=\"dataframe\">\n",
              "  <thead>\n",
              "    <tr style=\"text-align: right;\">\n",
              "      <th></th>\n",
              "      <th>InvoiceNo</th>\n",
              "      <th>StockCode</th>\n",
              "      <th>Description</th>\n",
              "      <th>Quantity</th>\n",
              "      <th>InvoiceDate</th>\n",
              "      <th>UnitPrice</th>\n",
              "      <th>CustomerID</th>\n",
              "      <th>Country</th>\n",
              "      <th>Cost</th>\n",
              "    </tr>\n",
              "  </thead>\n",
              "  <tbody>\n",
              "    <tr>\n",
              "      <th>421601</th>\n",
              "      <td>573003</td>\n",
              "      <td>23084</td>\n",
              "      <td>RABBIT NIGHT LIGHT</td>\n",
              "      <td>2400</td>\n",
              "      <td>10/27/11 12:11</td>\n",
              "      <td>2.08</td>\n",
              "      <td>14646.0</td>\n",
              "      <td>Netherlands</td>\n",
              "      <td>4992.0</td>\n",
              "    </tr>\n",
              "  </tbody>\n",
              "</table>\n",
              "</div>"
            ],
            "text/plain": [
              "       InvoiceNo StockCode         Description  ...  CustomerID      Country    Cost\n",
              "421601    573003     23084  RABBIT NIGHT LIGHT  ...     14646.0  Netherlands  4992.0\n",
              "\n",
              "[1 rows x 9 columns]"
            ]
          },
          "metadata": {
            "tags": []
          },
          "execution_count": 11
        }
      ]
    },
    {
      "cell_type": "markdown",
      "metadata": {
        "id": "UcCxS85hIwLb",
        "colab_type": "text"
      },
      "source": [
        "**On which year had the highest sales?**"
      ]
    },
    {
      "cell_type": "code",
      "metadata": {
        "id": "i-7RsisUI_gc",
        "colab_type": "code",
        "outputId": "4c792cff-d939-48bc-c108-34277d520088",
        "colab": {
          "base_uri": "https://localhost:8080/",
          "height": 35
        }
      },
      "source": [
        "retail_df['InvoiceDate'] = pd.to_datetime(retail_df['InvoiceDate'])\n",
        "temp = retail_df.groupby(retail_df['InvoiceDate'].dt.year).sum()\n",
        "temp.index = temp.index.set_names(['Year'])\n",
        "temp.reset_index().max()['Year']"
      ],
      "execution_count": 12,
      "outputs": [
        {
          "output_type": "execute_result",
          "data": {
            "text/plain": [
              "2011.0"
            ]
          },
          "metadata": {
            "tags": []
          },
          "execution_count": 12
        }
      ]
    },
    {
      "cell_type": "markdown",
      "metadata": {
        "id": "W-IKvzruKHXb",
        "colab_type": "text"
      },
      "source": [
        "**How many orders (per hour)?**"
      ]
    },
    {
      "cell_type": "code",
      "metadata": {
        "id": "RHS5ridWKQ4u",
        "colab_type": "code",
        "outputId": "8f10a664-0bf3-4cd2-8027-7d1f0ba89960",
        "colab": {
          "base_uri": "https://localhost:8080/",
          "height": 35
        }
      },
      "source": [
        "temp = retail_df.groupby([retail_df['InvoiceDate'].dt.year, retail_df['InvoiceDate'].dt.month, retail_df['InvoiceDate'].dt.day, retail_df['InvoiceDate'].dt.hour]).sum()\n",
        "total_working_hours = temp.index.shape[0]\n",
        "efficiency = retail_df['Quantity'].sum() / total_working_hours\n",
        "print(efficiency, 'orders/hour')"
      ],
      "execution_count": 13,
      "outputs": [
        {
          "output_type": "stream",
          "text": [
            "1947.361885104919 orders/hour\n"
          ],
          "name": "stdout"
        }
      ]
    },
    {
      "cell_type": "markdown",
      "metadata": {
        "id": "dqCZUmx0KKfS",
        "colab_type": "text"
      },
      "source": [
        "**Make a plot about number of orders per hour**"
      ]
    },
    {
      "cell_type": "code",
      "metadata": {
        "id": "-KPgD51AKKE6",
        "colab_type": "code",
        "outputId": "b29a4025-73e2-4edc-bcab-e7a338402915",
        "colab": {
          "base_uri": "https://localhost:8080/",
          "height": 301
        }
      },
      "source": [
        "temp = retail_df.groupby(retail_df['InvoiceDate'].dt.hour).sum().reset_index()\n",
        "sns.barplot(x=\"InvoiceDate\", y=\"Quantity\", data=temp)"
      ],
      "execution_count": 14,
      "outputs": [
        {
          "output_type": "execute_result",
          "data": {
            "text/plain": [
              "<matplotlib.axes._subplots.AxesSubplot at 0x7f5eee9cd898>"
            ]
          },
          "metadata": {
            "tags": []
          },
          "execution_count": 14
        },
        {
          "output_type": "display_data",
          "data": {
            "image/png": "[encoded data removed]",
            "text/plain": [
              "<Figure size 432x288 with 1 Axes>"
            ]
          },
          "metadata": {
            "tags": []
          }
        }
      ]
    },
    {
      "cell_type": "markdown",
      "metadata": {
        "colab_type": "text",
        "id": "-8ZwTvS6L0vS"
      },
      "source": [
        "**How many orders (per month)?**"
      ]
    },
    {
      "cell_type": "code",
      "metadata": {
        "colab_type": "code",
        "id": "NeOp_6a3L0vX",
        "outputId": "d0b00072-5df4-4a16-e928-58013c4877b7",
        "colab": {
          "base_uri": "https://localhost:8080/",
          "height": 35
        }
      },
      "source": [
        "temp = retail_df.groupby([retail_df['InvoiceDate'].dt.year, retail_df['InvoiceDate'].dt.month]).sum()\n",
        "total_working_months = temp.index.shape[0]\n",
        "efficiency = retail_df['Quantity'].sum() / total_working_months\n",
        "print(efficiency, 'orders/month')\n",
        "\n"
      ],
      "execution_count": 15,
      "outputs": [
        {
          "output_type": "stream",
          "text": [
            "435460.07692307694 orders/month\n"
          ],
          "name": "stdout"
        }
      ]
    },
    {
      "cell_type": "markdown",
      "metadata": {
        "colab_type": "text",
        "id": "sOYrMUczL0vb"
      },
      "source": [
        "**Make a plot about number of orders per month**"
      ]
    },
    {
      "cell_type": "code",
      "metadata": {
        "id": "e7RJQ5MbL4cY",
        "colab_type": "code",
        "outputId": "2d3ff0d7-bf3f-448c-bad6-521580d02b4c",
        "colab": {
          "base_uri": "https://localhost:8080/",
          "height": 301
        }
      },
      "source": [
        "temp = retail_df.groupby(retail_df['InvoiceDate'].dt.month).sum().reset_index()\n",
        "sns.barplot(x=\"InvoiceDate\", y=\"Quantity\", data=temp)"
      ],
      "execution_count": 16,
      "outputs": [
        {
          "output_type": "execute_result",
          "data": {
            "text/plain": [
              "<matplotlib.axes._subplots.AxesSubplot at 0x7f5eeadff2e8>"
            ]
          },
          "metadata": {
            "tags": []
          },
          "execution_count": 16
        },
        {
          "output_type": "display_data",
          "data": {
            "image/png": "[encoded data removed]",
            "text/plain": [
              "<Figure size 432x288 with 1 Axes>"
            ]
          },
          "metadata": {
            "tags": []
          }
        }
      ]
    },
    {
      "cell_type": "markdown",
      "metadata": {
        "id": "E3eeyQeBLd6e",
        "colab_type": "text"
      },
      "source": [
        "**Top 10 items most sales**"
      ]
    },
    {
      "cell_type": "code",
      "metadata": {
        "id": "4trjB9ZjLhEv",
        "colab_type": "code",
        "outputId": "cb62b508-93c7-439d-b036-fff9f7206749",
        "colab": {
          "base_uri": "https://localhost:8080/",
          "height": 395
        }
      },
      "source": [
        "temp = retail_df.groupby('StockCode').sum()\n",
        "temp.nlargest(10, columns=['Quantity'])"
      ],
      "execution_count": 17,
      "outputs": [
        {
          "output_type": "execute_result",
          "data": {
            "text/html": [
              "<div>\n",
              "<style scoped>\n",
              "    .dataframe tbody tr th:only-of-type {\n",
              "        vertical-align: middle;\n",
              "    }\n",
              "\n",
              "    .dataframe tbody tr th {\n",
              "        vertical-align: top;\n",
              "    }\n",
              "\n",
              "    .dataframe thead th {\n",
              "        text-align: right;\n",
              "    }\n",
              "</style>\n",
              "<table border=\"1\" class=\"dataframe\">\n",
              "  <thead>\n",
              "    <tr style=\"text-align: right;\">\n",
              "      <th></th>\n",
              "      <th>Quantity</th>\n",
              "      <th>UnitPrice</th>\n",
              "      <th>CustomerID</th>\n",
              "      <th>Cost</th>\n",
              "    </tr>\n",
              "    <tr>\n",
              "      <th>StockCode</th>\n",
              "      <th></th>\n",
              "      <th></th>\n",
              "      <th></th>\n",
              "      <th></th>\n",
              "    </tr>\n",
              "  </thead>\n",
              "  <tbody>\n",
              "    <tr>\n",
              "      <th>23843</th>\n",
              "      <td>80995</td>\n",
              "      <td>2.08</td>\n",
              "      <td>16446.0</td>\n",
              "      <td>168469.60</td>\n",
              "    </tr>\n",
              "    <tr>\n",
              "      <th>23166</th>\n",
              "      <td>78033</td>\n",
              "      <td>367.12</td>\n",
              "      <td>3047321.0</td>\n",
              "      <td>81700.92</td>\n",
              "    </tr>\n",
              "    <tr>\n",
              "      <th>22197</th>\n",
              "      <td>56921</td>\n",
              "      <td>1486.56</td>\n",
              "      <td>16490386.0</td>\n",
              "      <td>51354.02</td>\n",
              "    </tr>\n",
              "    <tr>\n",
              "      <th>84077</th>\n",
              "      <td>55047</td>\n",
              "      <td>172.20</td>\n",
              "      <td>7226036.0</td>\n",
              "      <td>13841.85</td>\n",
              "    </tr>\n",
              "    <tr>\n",
              "      <th>85099B</th>\n",
              "      <td>48478</td>\n",
              "      <td>5249.29</td>\n",
              "      <td>24748363.0</td>\n",
              "      <td>94340.05</td>\n",
              "    </tr>\n",
              "    <tr>\n",
              "      <th>85123A</th>\n",
              "      <td>41664</td>\n",
              "      <td>7059.89</td>\n",
              "      <td>31667793.0</td>\n",
              "      <td>104518.80</td>\n",
              "    </tr>\n",
              "    <tr>\n",
              "      <th>84879</th>\n",
              "      <td>36461</td>\n",
              "      <td>2564.49</td>\n",
              "      <td>21450268.0</td>\n",
              "      <td>59094.93</td>\n",
              "    </tr>\n",
              "    <tr>\n",
              "      <th>21212</th>\n",
              "      <td>36419</td>\n",
              "      <td>1039.05</td>\n",
              "      <td>16135698.0</td>\n",
              "      <td>21259.10</td>\n",
              "    </tr>\n",
              "    <tr>\n",
              "      <th>23084</th>\n",
              "      <td>31722</td>\n",
              "      <td>2466.20</td>\n",
              "      <td>12564016.0</td>\n",
              "      <td>66964.99</td>\n",
              "    </tr>\n",
              "    <tr>\n",
              "      <th>22492</th>\n",
              "      <td>26633</td>\n",
              "      <td>298.31</td>\n",
              "      <td>4780324.0</td>\n",
              "      <td>16937.82</td>\n",
              "    </tr>\n",
              "  </tbody>\n",
              "</table>\n",
              "</div>"
            ],
            "text/plain": [
              "           Quantity  UnitPrice  CustomerID       Cost\n",
              "StockCode                                            \n",
              "23843         80995       2.08     16446.0  168469.60\n",
              "23166         78033     367.12   3047321.0   81700.92\n",
              "22197         56921    1486.56  16490386.0   51354.02\n",
              "84077         55047     172.20   7226036.0   13841.85\n",
              "85099B        48478    5249.29  24748363.0   94340.05\n",
              "85123A        41664    7059.89  31667793.0  104518.80\n",
              "84879         36461    2564.49  21450268.0   59094.93\n",
              "21212         36419    1039.05  16135698.0   21259.10\n",
              "23084         31722    2466.20  12564016.0   66964.99\n",
              "22492         26633     298.31   4780324.0   16937.82"
            ]
          },
          "metadata": {
            "tags": []
          },
          "execution_count": 17
        }
      ]
    },
    {
      "cell_type": "markdown",
      "metadata": {
        "id": "-dEBLw1uPm1-",
        "colab_type": "text"
      },
      "source": [
        "**Create a histogram with the 10 countries that have the most 'Quantity' ordered except UK**"
      ]
    },
    {
      "cell_type": "code",
      "metadata": {
        "id": "_N-UF331Pm1-",
        "colab_type": "code",
        "outputId": "91865ad9-dda6-452c-a98d-672d25bfbffe",
        "colab": {
          "base_uri": "https://localhost:8080/",
          "height": 301
        }
      },
      "source": [
        "# Your code here\n",
        "temp = retail_df[retail_df['Country'] != 'United Kingdom']\n",
        "temp = temp.groupby('Country').sum().nlargest(10, 'Quantity')\n",
        "sns.distplot(temp['Quantity'], bins=10)\n",
        "# What can you tell about this?"
      ],
      "execution_count": 18,
      "outputs": [
        {
          "output_type": "execute_result",
          "data": {
            "text/plain": [
              "<matplotlib.axes._subplots.AxesSubplot at 0x7f5eeadff080>"
            ]
          },
          "metadata": {
            "tags": []
          },
          "execution_count": 18
        },
        {
          "output_type": "display_data",
          "data": {
            "image/png": "[encoded data removed]",
            "text/plain": [
              "<Figure size 432x288 with 1 Axes>"
            ]
          },
          "metadata": {
            "tags": []
          }
        }
      ]
    },
    {
      "cell_type": "markdown",
      "metadata": {
        "id": "MoBgPjDiwhdV",
        "colab_type": "text"
      },
      "source": [
        "### You are awesome!!"
      ]
    }
  ]
}